{
 "cells": [
  {
   "cell_type": "markdown",
   "metadata": {},
   "source": [
    "![image info](https://raw.githubusercontent.com/albahnsen/MIAD_ML_and_NLP/main/images/banner_1.png)"
   ]
  },
  {
   "cell_type": "markdown",
   "metadata": {},
   "source": [
    "# Taller: Construcción e implementación de árboles de decisión y métodos de ensamblaje\n",
    "\n",
    "En este taller podrá poner en práctica los sus conocimientos sobre construcción e implementación de árboles de decisión y métodos de ensamblajes. El taller está constituido por 9 puntos, 5 relacionados con árboles de decisión (parte A) y 4 con métodos de ensamblaje (parte B)."
   ]
  },
  {
   "cell_type": "markdown",
   "metadata": {},
   "source": [
    "## Parte A - Árboles de decisión\n",
    "\n",
    "En esta parte del taller se usará el conjunto de datos de Capital Bikeshare de Kaggle, donde cada observación representa el alquiler de bicicletas durante una hora y día determinado. Para más detalles puede visitar los siguientes enlaces: [datos](https://archive.ics.uci.edu/ml/machine-learning-databases/00275/Bike-Sharing-Dataset.zip), [dicccionario de datos](https://archive.ics.uci.edu/ml/datasets/Bike+Sharing+Dataset#)."
   ]
  },
  {
   "cell_type": "markdown",
   "metadata": {},
   "source": [
    "### Datos prestamo de bicicletas"
   ]
  },
  {
   "cell_type": "code",
   "execution_count": 1,
   "metadata": {},
   "outputs": [],
   "source": [
    "import warnings\n",
    "warnings.filterwarnings('ignore')"
   ]
  },
  {
   "cell_type": "code",
   "execution_count": 24,
   "metadata": {},
   "outputs": [],
   "source": [
    "# Importación de librerías\n",
    "%matplotlib inline\n",
    "import pandas as pd\n",
    "import numpy as np\n",
    "import matplotlib.pyplot as plt\n",
    "from sklearn.model_selection import cross_val_score\n",
    "from sklearn.linear_model import LinearRegression\n",
    "from sklearn.tree import DecisionTreeRegressor, export_graphviz\n",
    "from sklearn.model_selection import train_test_split"
   ]
  },
  {
   "cell_type": "code",
   "execution_count": 3,
   "metadata": {},
   "outputs": [
    {
     "data": {
      "text/html": [
       "<div>\n",
       "<style scoped>\n",
       "    .dataframe tbody tr th:only-of-type {\n",
       "        vertical-align: middle;\n",
       "    }\n",
       "\n",
       "    .dataframe tbody tr th {\n",
       "        vertical-align: top;\n",
       "    }\n",
       "\n",
       "    .dataframe thead th {\n",
       "        text-align: right;\n",
       "    }\n",
       "</style>\n",
       "<table border=\"1\" class=\"dataframe\">\n",
       "  <thead>\n",
       "    <tr style=\"text-align: right;\">\n",
       "      <th></th>\n",
       "      <th>season</th>\n",
       "      <th>holiday</th>\n",
       "      <th>workingday</th>\n",
       "      <th>weather</th>\n",
       "      <th>temp</th>\n",
       "      <th>atemp</th>\n",
       "      <th>humidity</th>\n",
       "      <th>windspeed</th>\n",
       "      <th>casual</th>\n",
       "      <th>registered</th>\n",
       "      <th>total</th>\n",
       "      <th>hour</th>\n",
       "    </tr>\n",
       "    <tr>\n",
       "      <th>datetime</th>\n",
       "      <th></th>\n",
       "      <th></th>\n",
       "      <th></th>\n",
       "      <th></th>\n",
       "      <th></th>\n",
       "      <th></th>\n",
       "      <th></th>\n",
       "      <th></th>\n",
       "      <th></th>\n",
       "      <th></th>\n",
       "      <th></th>\n",
       "      <th></th>\n",
       "    </tr>\n",
       "  </thead>\n",
       "  <tbody>\n",
       "    <tr>\n",
       "      <th>2011-01-01 00:00:00</th>\n",
       "      <td>1</td>\n",
       "      <td>0</td>\n",
       "      <td>0</td>\n",
       "      <td>1</td>\n",
       "      <td>9.84</td>\n",
       "      <td>14.395</td>\n",
       "      <td>81</td>\n",
       "      <td>0.0</td>\n",
       "      <td>3</td>\n",
       "      <td>13</td>\n",
       "      <td>16</td>\n",
       "      <td>0</td>\n",
       "    </tr>\n",
       "    <tr>\n",
       "      <th>2011-01-01 01:00:00</th>\n",
       "      <td>1</td>\n",
       "      <td>0</td>\n",
       "      <td>0</td>\n",
       "      <td>1</td>\n",
       "      <td>9.02</td>\n",
       "      <td>13.635</td>\n",
       "      <td>80</td>\n",
       "      <td>0.0</td>\n",
       "      <td>8</td>\n",
       "      <td>32</td>\n",
       "      <td>40</td>\n",
       "      <td>1</td>\n",
       "    </tr>\n",
       "    <tr>\n",
       "      <th>2011-01-01 02:00:00</th>\n",
       "      <td>1</td>\n",
       "      <td>0</td>\n",
       "      <td>0</td>\n",
       "      <td>1</td>\n",
       "      <td>9.02</td>\n",
       "      <td>13.635</td>\n",
       "      <td>80</td>\n",
       "      <td>0.0</td>\n",
       "      <td>5</td>\n",
       "      <td>27</td>\n",
       "      <td>32</td>\n",
       "      <td>2</td>\n",
       "    </tr>\n",
       "    <tr>\n",
       "      <th>2011-01-01 03:00:00</th>\n",
       "      <td>1</td>\n",
       "      <td>0</td>\n",
       "      <td>0</td>\n",
       "      <td>1</td>\n",
       "      <td>9.84</td>\n",
       "      <td>14.395</td>\n",
       "      <td>75</td>\n",
       "      <td>0.0</td>\n",
       "      <td>3</td>\n",
       "      <td>10</td>\n",
       "      <td>13</td>\n",
       "      <td>3</td>\n",
       "    </tr>\n",
       "    <tr>\n",
       "      <th>2011-01-01 04:00:00</th>\n",
       "      <td>1</td>\n",
       "      <td>0</td>\n",
       "      <td>0</td>\n",
       "      <td>1</td>\n",
       "      <td>9.84</td>\n",
       "      <td>14.395</td>\n",
       "      <td>75</td>\n",
       "      <td>0.0</td>\n",
       "      <td>0</td>\n",
       "      <td>1</td>\n",
       "      <td>1</td>\n",
       "      <td>4</td>\n",
       "    </tr>\n",
       "  </tbody>\n",
       "</table>\n",
       "</div>"
      ],
      "text/plain": [
       "                     season  holiday  workingday  weather  temp   atemp  \\\n",
       "datetime                                                                  \n",
       "2011-01-01 00:00:00       1        0           0        1  9.84  14.395   \n",
       "2011-01-01 01:00:00       1        0           0        1  9.02  13.635   \n",
       "2011-01-01 02:00:00       1        0           0        1  9.02  13.635   \n",
       "2011-01-01 03:00:00       1        0           0        1  9.84  14.395   \n",
       "2011-01-01 04:00:00       1        0           0        1  9.84  14.395   \n",
       "\n",
       "                     humidity  windspeed  casual  registered  total  hour  \n",
       "datetime                                                                   \n",
       "2011-01-01 00:00:00        81        0.0       3          13     16     0  \n",
       "2011-01-01 01:00:00        80        0.0       8          32     40     1  \n",
       "2011-01-01 02:00:00        80        0.0       5          27     32     2  \n",
       "2011-01-01 03:00:00        75        0.0       3          10     13     3  \n",
       "2011-01-01 04:00:00        75        0.0       0           1      1     4  "
      ]
     },
     "execution_count": 3,
     "metadata": {},
     "output_type": "execute_result"
    }
   ],
   "source": [
    "# Lectura de la información de archivo .csv\n",
    "bikes = pd.read_csv('https://raw.githubusercontent.com/davidzarruk/MIAD_ML_NLP_2023/main/datasets/bikeshare.csv', index_col='datetime', parse_dates=True)\n",
    "\n",
    "# Renombrar variable \"count\" a \"total\"\n",
    "bikes.rename(columns={'count':'total'}, inplace=True)\n",
    "\n",
    "# Crear la hora como una variable \n",
    "bikes['hour'] = bikes.index.hour\n",
    "\n",
    "# Visualización de los datos\n",
    "bikes.head()"
   ]
  },
  {
   "cell_type": "markdown",
   "metadata": {},
   "source": [
    "### Punto 1 - Análisis descriptivo\n",
    "\n",
    "Ejecute las celdas 1.1 y 1.2. A partir de los resultados realice un análisis descriptivo sobre las variables \"season\" y \"hour\", escriba sus inferencias sobre los datos. Para complementar su análisis puede usar métricas como máximo, mínimo, percentiles entre otros."
   ]
  },
  {
   "cell_type": "code",
   "execution_count": 4,
   "metadata": {},
   "outputs": [
    {
     "data": {
      "text/plain": [
       "season\n",
       "1    116.343261\n",
       "2    215.251372\n",
       "3    234.417124\n",
       "4    198.988296\n",
       "Name: total, dtype: float64"
      ]
     },
     "execution_count": 4,
     "metadata": {},
     "output_type": "execute_result"
    }
   ],
   "source": [
    "# Celda 1.1\n",
    "bikes.groupby('season').total.mean()"
   ]
  },
  {
   "cell_type": "code",
   "execution_count": 5,
   "metadata": {
    "scrolled": true
   },
   "outputs": [
    {
     "data": {
      "text/plain": [
       "hour\n",
       "0      55.138462\n",
       "1      33.859031\n",
       "2      22.899554\n",
       "3      11.757506\n",
       "4       6.407240\n",
       "5      19.767699\n",
       "6      76.259341\n",
       "7     213.116484\n",
       "8     362.769231\n",
       "9     221.780220\n",
       "10    175.092308\n",
       "11    210.674725\n",
       "12    256.508772\n",
       "13    257.787281\n",
       "14    243.442982\n",
       "15    254.298246\n",
       "16    316.372807\n",
       "17    468.765351\n",
       "18    430.859649\n",
       "19    315.278509\n",
       "20    228.517544\n",
       "21    173.370614\n",
       "22    133.576754\n",
       "23     89.508772\n",
       "Name: total, dtype: float64"
      ]
     },
     "execution_count": 5,
     "metadata": {},
     "output_type": "execute_result"
    }
   ],
   "source": [
    "# Celda 1.2\n",
    "bikes.groupby('hour').total.mean()"
   ]
  },
  {
   "cell_type": "code",
   "execution_count": 6,
   "metadata": {},
   "outputs": [
    {
     "name": "stdout",
     "output_type": "stream",
     "text": [
      "Métricas para la variable 'season':\n",
      "        Min  Max        Mean  Median         Std  25th Percentile  \\\n",
      "season                                                              \n",
      "1         1  801  116.343261    78.0  125.273974             24.0   \n",
      "2         1  873  215.251372   172.0  192.007843             49.0   \n",
      "3         1  977  234.417124   195.0  197.151001             68.0   \n",
      "4         1  948  198.988296   161.0  177.622409             51.0   \n",
      "\n",
      "        75th Percentile  \n",
      "season                   \n",
      "1                 164.0  \n",
      "2                 321.0  \n",
      "3                 347.0  \n",
      "4                 294.0  \n",
      "\n",
      "\n",
      "Métricas para la variable 'hour':\n",
      "      Min  Max        Mean  Median         Std  25th Percentile  \\\n",
      "hour                                                              \n",
      "0       2  283   55.138462    41.0   43.620012            24.00   \n",
      "1       1  168   33.859031    19.0   34.112105            11.00   \n",
      "2       1  119   22.899554    11.0   26.110267             5.00   \n",
      "3       1   66   11.757506     6.0   12.666442             3.00   \n",
      "4       1   28    6.407240     6.0    4.217633             3.00   \n",
      "5       1   57   19.767699    19.0   12.784293             8.00   \n",
      "6       1  213   76.259341    75.0   54.745333            24.50   \n",
      "7       1  596  213.116484   208.0  159.207044            63.00   \n",
      "8       8  839  362.769231   392.0  231.723065           133.50   \n",
      "9      14  414  221.780220   217.0   92.099209           161.00   \n",
      "10     17  539  175.092308   149.0  101.807629           106.00   \n",
      "11     10  647  210.674725   183.0  127.444294           123.00   \n",
      "12      3  757  256.508772   234.5  143.881880           157.00   \n",
      "13     11  729  257.787281   226.5  149.167185           154.00   \n",
      "14     12  730  243.442982   212.0  147.563199           144.00   \n",
      "15      7  724  254.298246   232.0  144.235670           154.00   \n",
      "16     11  783  316.372807   309.5  145.664786           211.75   \n",
      "17     15  970  468.765351   480.5  223.775485           277.00   \n",
      "18     23  977  430.859649   422.5  219.908138           240.75   \n",
      "19     11  743  315.278509   312.5  156.641732           190.00   \n",
      "20     11  551  228.517544   224.0  116.411565           136.75   \n",
      "21      6  584  173.370614   171.5   87.629319           103.50   \n",
      "22      9  502  133.576754   129.0   69.844495            80.00   \n",
      "23      4  256   89.508772    80.0   51.638004            52.75   \n",
      "\n",
      "      75th Percentile  \n",
      "hour                   \n",
      "0               74.50  \n",
      "1               46.00  \n",
      "2               32.00  \n",
      "3               15.00  \n",
      "4                9.00  \n",
      "5               29.00  \n",
      "6              118.00  \n",
      "7              334.00  \n",
      "8              563.50  \n",
      "9              294.50  \n",
      "10             218.50  \n",
      "11             265.50  \n",
      "12             332.00  \n",
      "13             329.00  \n",
      "14             311.25  \n",
      "15             331.00  \n",
      "16             421.00  \n",
      "17             608.50  \n",
      "18             564.00  \n",
      "19             416.00  \n",
      "20             302.00  \n",
      "21             230.00  \n",
      "22             175.00  \n",
      "23             123.00  \n"
     ]
    }
   ],
   "source": [
    "# Métricas para la variable 'season'\n",
    "season_metrics = bikes.groupby('season').total.agg(['min', 'max', 'mean', 'median', 'std', lambda x: x.quantile(0.25), lambda x: x.quantile(0.75)])\n",
    "season_metrics.columns = ['Min', 'Max', 'Mean', 'Median', 'Std', '25th Percentile', '75th Percentile']\n",
    "print(\"Métricas para la variable 'season':\")\n",
    "print(season_metrics)\n",
    "\n",
    "print(\"\\n\")\n",
    "\n",
    "# Métricas para la variable 'hour'\n",
    "hour_metrics = bikes.groupby('hour').total.agg(['min', 'max', 'mean', 'median', 'std', lambda x: x.quantile(0.25), lambda x: x.quantile(0.75)])\n",
    "hour_metrics.columns = ['Min', 'Max', 'Mean', 'Median', 'Std', '25th Percentile', '75th Percentile']\n",
    "print(\"Métricas para la variable 'hour':\")\n",
    "print(hour_metrics)"
   ]
  },
  {
   "cell_type": "markdown",
   "metadata": {},
   "source": [
    "#### Variable \"season\":\n",
    "\n",
    "La media del número total de alquileres de bicicletas varía significativamente según la estación del año.\n",
    "La estación 3 (otoño) tiene la media más alta de alquileres de bicicletas, seguida de la estación 2 (verano), la estación 4 (invierno) y la estación 1 (primavera), en ese orden.\n",
    "Esto sugiere que la demanda de alquileres de bicicletas es mayor durante el otoño y el verano en comparación con la primavera y el invierno.\n",
    "\n",
    "#### Variable \"hour\":\n",
    "\n",
    "La media del número total de alquileres de bicicletas varía considerablemente a lo largo del día.\n",
    "Las horas con las medias más bajas de alquileres de bicicletas son durante las primeras horas de la madrugada (de 0 a 4).\n",
    "La demanda comienza a aumentar gradualmente a partir de las 5 de la mañana y alcanza un pico significativo entre las 7 y las 9 de la mañana, lo que sugiere que muchas personas utilizan bicicletas como medio de transporte para ir al trabajo o la escuela.\n",
    "La media de alquileres de bicicletas disminuye después de las 9 de la mañana, pero se mantiene relativamente alta durante las horas diurnas (hasta las 17 horas).\n",
    "La hora con la media más alta de alquileres de bicicletas es entre las 17 y las 18 horas, lo que puede corresponder a las horas pico cuando la gente regresa del trabajo o la escuela."
   ]
  },
  {
   "cell_type": "markdown",
   "metadata": {},
   "source": [
    "#### Inferencias para la variable 'season':\n",
    "\n",
    "Mínimo: El número mínimo de alquileres de bicicletas durante una temporada es 1, lo que indica que incluso en la temporada menos concurrida, hay alquileres de bicicletas.\n",
    "\n",
    "Máximo: El número máximo de alquileres de bicicletas durante una temporada varía significativamente, con la temporada 3 (otoño) registrando la cantidad más alta.\n",
    "\n",
    "Media: La media de alquileres de bicicletas es más alta en la temporada 3 (otoño), seguida por la temporada 2 (verano), la temporada 4 (invierno) y la temporada 1 (primavera).\n",
    "\n",
    "Mediana: La mediana muestra una distribución similar a la media, con la temporada 3 (otoño) teniendo la mediana más alta.\n",
    "\n",
    "Desviación estándar: La desviación estándar es más alta en la temporada 3 (otoño), lo que indica una mayor variabilidad en los alquileres de bicicletas durante esta temporada.\n",
    "\n",
    "Percentiles (25th y 75th): La diferencia entre el percentil 75 y el percentil 25 indica la dispersión de los datos. La temporada 3 (otoño) tiene la mayor amplitud intercuartil, seguida por la temporada 4 (invierno), la temporada 2 (verano) y la temporada 1 (primavera), en ese orden.\n",
    "\n",
    "#### Inferencias para la variable 'hour':\n",
    "\n",
    "Mínimo: Durante algunas horas del día, el número mínimo de alquileres de bicicletas es tan bajo como 1, lo que sugiere una demanda mínima en ciertos momentos.\n",
    "\n",
    "Máximo: La cantidad máxima de alquileres de bicicletas por hora varía significativamente, con un máximo de 977 alquileres registrados en la hora 3 (15:00 horas).\n",
    "\n",
    "Media: La media más alta de alquileres de bicicletas se observa entre las 17:00 y las 18:00 horas, seguida de cerca por las 8:00 y las 9:00 horas.\n",
    "\n",
    "Mediana: La mediana sigue un patrón similar a la media, con horas pico identificadas entre las 17:00 y las 18:00 horas.\n",
    "\n",
    "Desviación estándar: La desviación estándar es más alta durante las horas pico, lo que indica una mayor variabilidad en la demanda de alquileres de bicicletas durante esos períodos.\n",
    "\n",
    "Percentiles (25th y 75th): La diferencia entre el percentil 75 y el percentil 25 es más pronunciada durante las horas pico, lo que indica una mayor dispersión de los datos y una demanda más variable de alquileres de bicicletas durante esas horas."
   ]
  },
  {
   "cell_type": "markdown",
   "metadata": {},
   "source": [
    "### ________________________________________________________________________________"
   ]
  },
  {
   "cell_type": "markdown",
   "metadata": {},
   "source": [
    "### Punto 2 - Análisis de gráficos\n",
    "\n",
    "Primero ejecute la celda 2.1 y asegúrese de comprender el código y el resultado. Luego, en cada una de celdas 2.2 y 2.3 escriba un código que genere una gráfica del número de bicicletas rentadas promedio para cada valor de la variable \"hour\" (hora) cuando la variable \"season\" es igual a 1 (invierno) e igual a 3 (verano), respectivamente. Analice y escriba sus hallazgos."
   ]
  },
  {
   "cell_type": "code",
   "execution_count": 11,
   "metadata": {},
   "outputs": [
    {
     "data": {
      "text/plain": [
       "<Axes: xlabel='hour'>"
      ]
     },
     "execution_count": 11,
     "metadata": {},
     "output_type": "execute_result"
    },
    {
     "data": {
      "image/png": "[encoded data removed]",
      "text/plain": [
       "<Figure size 640x480 with 1 Axes>"
      ]
     },
     "metadata": {},
     "output_type": "display_data"
    }
   ],
   "source": [
    "# Celda 2.1 - rentas promedio para cada valor de la variable \"hour\"\n",
    "bikes.groupby('hour').total.mean().plot()"
   ]
  },
  {
   "cell_type": "code",
   "execution_count": 12,
   "metadata": {},
   "outputs": [
    {
     "data": {
      "image/png": "[encoded data removed]",
      "text/plain": [
       "<Figure size 640x480 with 1 Axes>"
      ]
     },
     "metadata": {},
     "output_type": "display_data"
    }
   ],
   "source": [
    "# Celda 2.2 - \"season\"=1 escriba su código y hallazgos \n",
    "bikes[bikes['season'] == 1].groupby('hour').total.mean().plot()\n",
    "plt.title('Número promedio de bicicletas rentadas por hora (Invierno)')\n",
    "plt.xlabel('Hora del día')\n",
    "plt.ylabel('Número promedio de bicicletas rentadas')\n",
    "plt.grid(True)\n",
    "plt.show()"
   ]
  },
  {
   "cell_type": "markdown",
   "metadata": {},
   "source": [
    "#### Temporada de invierno (season=1):\n",
    "\n",
    "La demanda de bicicletas durante la temporada de invierno tiende a ser más baja en las primeras horas de la mañana, con una demanda mínima en torno a las 4-5 de la mañana.\n",
    "\n",
    "La demanda aumenta gradualmente hacia las horas pico de la mañana, alcanzando su punto máximo alrededor de las 8-9 de la mañana.\n",
    "Después de este pico matutino, la demanda disminuye constantemente durante el resto del día.\n",
    "Posibles explicaciones:\n",
    "\n",
    "Durante el invierno, es probable que las personas eviten montar en bicicleta en las primeras horas de la mañana debido a las bajas temperaturas.\n",
    "\n",
    "El pico matutino de demanda podría estar relacionado con las personas que utilizan bicicletas para ir al trabajo o la escuela. Sin embargo, la disminución posterior podría atribuirse al clima frío y menos horas de luz solar, lo que puede influir en la decisión de las personas de utilizar otros medios de transporte."
   ]
  },
  {
   "cell_type": "markdown",
   "metadata": {},
   "source": [
    "##### __________________________________________________________________________________________________________________________"
   ]
  },
  {
   "cell_type": "code",
   "execution_count": 13,
   "metadata": {},
   "outputs": [
    {
     "data": {
      "image/png": "[encoded data removed]",
      "text/plain": [
       "<Figure size 640x480 with 1 Axes>"
      ]
     },
     "metadata": {},
     "output_type": "display_data"
    }
   ],
   "source": [
    "# Celda 2.3 - \"season\"=3 escriba su código y hallazgos \n",
    "bikes[bikes['season'] == 3].groupby('hour').total.mean().plot()\n",
    "plt.title('Número promedio de bicicletas rentadas por hora (Verano)')\n",
    "plt.xlabel('Hora del día')\n",
    "plt.ylabel('Número promedio de bicicletas rentadas')\n",
    "plt.grid(True)\n",
    "plt.show()\n"
   ]
  },
  {
   "cell_type": "markdown",
   "metadata": {},
   "source": [
    "#### Temporada de verano (season=3):\n",
    "\n",
    "La demanda de bicicletas durante la temporada de verano muestra un patrón diferente en comparación con el invierno.\n",
    "Hay una mayor demanda durante las primeras horas de la mañana, alrededor de las 6-7 de la mañana, lo que sugiere que las personas pueden estar más dispuestas a montar en bicicleta temprano en la mañana durante el verano.\n",
    "La demanda alcanza su punto máximo durante las horas pico de la tarde, alrededor de las 4-5 de la tarde, lo que indica que las bicicletas pueden ser un medio popular de transporte durante todo el día, incluidas las horas de regreso del trabajo o la escuela.\n",
    "\n",
    "Posibles explicaciones:\n",
    "\n",
    "Durante el verano, las temperaturas más cálidas y la mayor cantidad de luz solar pueden hacer que montar en bicicleta sea más atractivo en comparación con el invierno.\n",
    "La demanda temprana en la mañana podría deberse a actividades recreativas, ejercicio o desplazamientos tempranos para evitar el calor del mediodía.\n",
    "El pico de demanda durante las horas pico de la tarde podría atribuirse al uso de bicicletas como medio de transporte para regresar del trabajo o la escuela, aprovechando las condiciones climáticas favorables."
   ]
  },
  {
   "cell_type": "markdown",
   "metadata": {},
   "source": [
    "#### ________________________________________________________________________________________________________________"
   ]
  },
  {
   "cell_type": "markdown",
   "metadata": {},
   "source": [
    "### Punto 3 - Regresión lineal\n",
    "En la celda 3 ajuste un modelo de regresión lineal a todo el conjunto de datos, utilizando \"total\" como variable de respuesta y \"season\" y \"hour\" como las únicas variables predictoras, teniendo en cuenta que la variable \"season\" es categórica. Luego, imprima los coeficientes e interprételos. ¿Cuáles son las limitaciones de la regresión lineal en este caso?"
   ]
  },
  {
   "cell_type": "code",
   "execution_count": 14,
   "metadata": {},
   "outputs": [],
   "source": [
    "from sklearn.linear_model import LinearRegression\n",
    "from sklearn.preprocessing import OneHotEncoder\n",
    "from sklearn.compose import ColumnTransformer\n",
    "from sklearn.pipeline import Pipeline"
   ]
  },
  {
   "cell_type": "code",
   "execution_count": 15,
   "metadata": {},
   "outputs": [
    {
     "name": "stdout",
     "output_type": "stream",
     "text": [
      "Coeficientes:\n",
      "- Para 'season': 13329366458587.719\n",
      "- Para 'hour': 13329366458688.934\n",
      "- Intercepto: -13329366458594.668\n"
     ]
    }
   ],
   "source": [
    "# Celda 3\n",
    "# variable categórica 'season' utilizando one-hot encoding\n",
    "column_transformer = ColumnTransformer([('encoder', OneHotEncoder(), ['season'])], remainder='passthrough')\n",
    "\n",
    "# Modelo de regresión lineal\n",
    "model = LinearRegression()\n",
    "\n",
    "# Pipeline \n",
    "pipeline = Pipeline([('transformer', column_transformer), ('model', model)])\n",
    "pipeline.fit(bikes[['season', 'hour']], bikes['total'])\n",
    "\n",
    "# coeficientes \n",
    "coef_season = pipeline.named_steps['model'].coef_[0]\n",
    "coef_hour = pipeline.named_steps['model'].coef_[1]\n",
    "intercept = pipeline.named_steps['model'].intercept_\n",
    "\n",
    "print(\"Coeficientes:\")\n",
    "print(f\"- Para 'season': {coef_season}\")\n",
    "print(f\"- Para 'hour': {coef_hour}\")\n",
    "print(f\"- Intercepto: {intercept}\")"
   ]
  },
  {
   "cell_type": "markdown",
   "metadata": {},
   "source": [
    "#### Análisis\n",
    "\n",
    "Dado que los coeficientes son anormalmente grandes, es difícil proporcionar una interpretación significativa de ellos. Es posible que este problema se deba a la escala de las características o a la multicolinealidad entre las características.\n",
    "\n",
    "\n",
    "* Escalado incorrecto de características: Si las características tienen escalas muy diferentes, puede conducir a problemas numéricos durante el ajuste del modelo. Es importante escalar correctamente las características antes de ajustar un modelo de regresión lineal.\n",
    "\n",
    "* Multicolinealidad: Si hay una alta correlación entre las características, puede resultar en una inestabilidad numérica durante el ajuste del modelo, lo que lleva a coeficientes anormalmente grandes.\n",
    "\n",
    "* Problemas de convergencia: El modelo puede no estar convergiendo adecuadamente debido a la naturaleza de los datos o la configuración del algoritmo de optimización.\n",
    "\n",
    "##### Posibles soluciones \n",
    "\n",
    "Para abordar este problema, se pueden tomar varias medidas, que incluyen:\n",
    "\n",
    "* Escalado de características: Asegúrate de escalar adecuadamente las características para que tengan una magnitud similar. Esto puede ayudar a estabilizar el ajuste del modelo.\n",
    "\n",
    "* Explorar multicolinealidad: Verifica la multicolinealidad entre las características y considera eliminar aquellas que estén altamente correlacionadas.\n",
    "\n",
    "* Explorar otros modelos: Si la regresión lineal no es adecuada para estos datos, considera explorar otros modelos más robustos para manejar características complejas o relaciones no lineales.\n",
    "\n"
   ]
  },
  {
   "cell_type": "markdown",
   "metadata": {},
   "source": [
    "###### Las limitaciones de la regresión lineal en este caso incluyen:\n",
    "\n",
    "* Linealidad asumida: La regresión lineal asume una relación lineal entre las variables predictoras y la variable de respuesta. Sin embargo, la relación entre el número total de alquileres de bicicletas y las variables predictoras (temporada y hora) puede no ser estrictamente lineal. Por ejemplo, la demanda de alquiler de bicicletas puede verse afectada por interacciones no lineales entre la hora del día y la temporada.\n",
    "\n",
    "\n",
    "* Normalidad de errores: La regresión lineal supone que los errores de predicción siguen una distribución normal. Si los errores no siguen esta distribución, las inferencias basadas en los coeficientes estimados pueden no ser válidas. En el caso de los datos de alquiler de bicicletas, los errores pueden no seguir una distribución normal, especialmente si hay valores atípicos o si la demanda de alquiler de bicicletas sigue un patrón no normal."
   ]
  },
  {
   "cell_type": "markdown",
   "metadata": {},
   "source": [
    "### __________________________________________________________________________________________"
   ]
  },
  {
   "cell_type": "markdown",
   "metadata": {},
   "source": [
    "### Punto 4 - Árbol de decisión manual\n",
    "En la celda 4 cree un árbol de decisiones para pronosticar la variable \"total\" iterando **manualmente** sobre las variables \"hour\" y  \"season\". El árbol debe tener al menos 6 nodos finales."
   ]
  },
  {
   "cell_type": "code",
   "execution_count": 31,
   "metadata": {},
   "outputs": [],
   "source": [
    "# Celda 4\n",
    "\n",
    "# Definición de parámetros y criterios de parada\n",
    "max_depth = None\n",
    "num_pct = 10\n",
    "min_gain = 0.001\n",
    "\n",
    "# Función para calcular el Gini impurity\n",
    "def gini_impurity(y):\n",
    "    if y.shape[0] == 0:\n",
    "        return 0\n",
    "    else:\n",
    "        p = y.mean()\n",
    "        return 1 - p**2 - (1 - p)**2\n",
    "\n",
    "# Función para calcular la ganancia de Gini dado una división\n",
    "def gini_gain(X_col, y, split):\n",
    "    filter_l = X_col < split\n",
    "    y_l = y.loc[filter_l]\n",
    "    y_r = y.loc[~filter_l]\n",
    "    n_l = y_l.shape[0]\n",
    "    n_r = y_r.shape[0]\n",
    "    gini_y = gini_impurity(y)\n",
    "    gini_l = gini_impurity(y_l)\n",
    "    gini_r = gini_impurity(y_r)\n",
    "    gini_gain_ = gini_y - (n_l / (n_l + n_r) * gini_l + n_r / (n_l + n_r) * gini_r)\n",
    "    return gini_gain_\n",
    "\n",
    "# Función para encontrar la mejor división\n",
    "def best_split(X, y, num_pct):\n",
    "    features = range(X.shape[1])\n",
    "    best_split = [0, 0, 0]  # j, split, gain\n",
    "    best_gain = -1  # Valor inicial para la mejor ganancia\n",
    "    for j in features:\n",
    "        splits = np.percentile(X.iloc[:, j], np.arange(0, 100, 100.0 / (num_pct+1)).tolist())\n",
    "        splits = np.unique(splits)[1:]\n",
    "        for split in splits:\n",
    "            gain = gini_gain(X.iloc[:, j], y, split)\n",
    "            if gain > best_gain:\n",
    "                best_split = [j, split, gain]\n",
    "                best_gain = gain\n",
    "    # Si no se encontró ninguna división válida, devolver algún valor predeterminado\n",
    "    if best_gain < 0:\n",
    "        return [0, 0, 0]  \n",
    "    return best_split\n",
    "\n",
    "                \n",
    "# Función para el crecimiento recursivo del árbol\n",
    "def tree_grow(X, y, level=0, min_gain=0.001, max_depth=None, num_pct=10):\n",
    "    if X.shape[0] == 1:\n",
    "        tree = dict(y_pred=y.iloc[:1].values[0], level=level, split=-1, n_samples=1, gain=0)\n",
    "        return tree\n",
    "    best_split_result = best_split(X, y, num_pct)\n",
    "    if best_split_result[2] < min_gain:\n",
    "        y_pred = int(y.mean() >= 0.5)\n",
    "        tree = dict(y_pred=y_pred, level=level, split=-1, n_samples=X.shape[0], gain=best_split_result[2])\n",
    "        return tree\n",
    "    j, split, gain = best_split_result\n",
    "    y_pred = int(y.mean() >= 0.5)\n",
    "    tree = dict(y_pred=y_pred, level=level, split=-1, n_samples=X.shape[0], gain=gain)\n",
    "    filter_l = X.iloc[:, j] < split\n",
    "    X_l, y_l = X.loc[filter_l], y.loc[filter_l]\n",
    "    X_r, y_r = X.loc[~filter_l], y.loc[~filter_l]\n",
    "    tree['split'] = [j, split]\n",
    "    tree['sl'] = tree_grow(X_l, y_l, level + 1, min_gain=min_gain, max_depth=max_depth, num_pct=num_pct)\n",
    "    tree['sr'] = tree_grow(X_r, y_r, level + 1, min_gain=min_gain, max_depth=max_depth, num_pct=num_pct)\n",
    "    return tree\n",
    "\n",
    "# Arbol de decisiones\n",
    "tree_0 = tree_grow(bikes[['hour', 'season']], bikes['total'], max_depth=6, min_gain=min_gain, num_pct=num_pct)"
   ]
  },
  {
   "cell_type": "code",
   "execution_count": 32,
   "metadata": {
    "scrolled": true
   },
   "outputs": [
    {
     "ename": "TypeError",
     "evalue": "cannot unpack non-iterable int object",
     "output_type": "error",
     "traceback": [
      "\u001b[1;31m---------------------------------------------------------------------------\u001b[0m",
      "\u001b[1;31mTypeError\u001b[0m                                 Traceback (most recent call last)",
      "Cell \u001b[1;32mIn[32], line 9\u001b[0m\n\u001b[0;32m      6\u001b[0m tree \u001b[38;5;241m=\u001b[39m tree_grow(X_train, y_train, max_depth\u001b[38;5;241m=\u001b[39m\u001b[38;5;241m6\u001b[39m, min_gain\u001b[38;5;241m=\u001b[39m\u001b[38;5;241m0.001\u001b[39m, num_pct\u001b[38;5;241m=\u001b[39m\u001b[38;5;241m10\u001b[39m)\n\u001b[0;32m      8\u001b[0m \u001b[38;5;66;03m# Realizar predicciones en el conjunto de validación usando el árbol de decisión manual\u001b[39;00m\n\u001b[1;32m----> 9\u001b[0m y_pred_manual \u001b[38;5;241m=\u001b[39m tree_predict(X_val, tree_0)\n\u001b[0;32m     11\u001b[0m \u001b[38;5;66;03m# Evaluar el desempeño del árbol de decisión manual\u001b[39;00m\n\u001b[0;32m     12\u001b[0m mse_manual \u001b[38;5;241m=\u001b[39m mean_squared_error(y_val, y_pred_manual)\n",
      "Cell \u001b[1;32mIn[21], line 8\u001b[0m, in \u001b[0;36mtree_predict\u001b[1;34m(X, tree)\u001b[0m\n\u001b[0;32m      6\u001b[0m node \u001b[38;5;241m=\u001b[39m tree\n\u001b[0;32m      7\u001b[0m \u001b[38;5;28;01mwhile\u001b[39;00m \u001b[38;5;124m'\u001b[39m\u001b[38;5;124msplit\u001b[39m\u001b[38;5;124m'\u001b[39m \u001b[38;5;129;01min\u001b[39;00m node:\n\u001b[1;32m----> 8\u001b[0m     j, split \u001b[38;5;241m=\u001b[39m node[\u001b[38;5;124m'\u001b[39m\u001b[38;5;124msplit\u001b[39m\u001b[38;5;124m'\u001b[39m]\n\u001b[0;32m      9\u001b[0m     \u001b[38;5;28;01mif\u001b[39;00m row[j] \u001b[38;5;241m<\u001b[39m split:\n\u001b[0;32m     10\u001b[0m         node \u001b[38;5;241m=\u001b[39m node[\u001b[38;5;124m'\u001b[39m\u001b[38;5;124msl\u001b[39m\u001b[38;5;124m'\u001b[39m]\n",
      "\u001b[1;31mTypeError\u001b[0m: cannot unpack non-iterable int object"
     ]
    }
   ],
   "source": [
    "# Dividir los datos en conjunto de entrenamiento y prueba\n",
    "X = bikes[['hour', 'season']]\n",
    "y = bikes['total']\n",
    "X_train, X_val, y_train, y_val = train_test_split(X, y, test_size=0.2, random_state=42)\n",
    "\n",
    "tree = tree_grow(X_train, y_train, max_depth=6, min_gain=0.001, num_pct=10)\n",
    "\n",
    "# Realizar predicciones en el conjunto de validación usando el árbol de decisión manual\n",
    "y_pred_manual = tree_predict(X_val, tree_0)\n",
    "\n",
    "# Evaluar el desempeño del árbol de decisión manual\n",
    "mse_manual = mean_squared_error(y_val, y_pred_manual)\n",
    "r2_manual = r2_score(y_val, y_pred_manual)\n",
    "\n",
    "print(\"Desempeño del árbol de decisión manual:\")\n",
    "print(\"Error cuadrático medio (MSE):\", mse_manual)\n",
    "print(\"Coeficiente de determinación (R^2):\", r2_manual)"
   ]
  },
  {
   "cell_type": "markdown",
   "metadata": {},
   "source": [
    "### Punto 5 - Árbol de decisión con librería\n",
    "En la celda 5 entrene un árbol de decisiones con la **librería sklearn**, usando las variables predictoras \"season\" y \"hour\" y calibre los parámetros que considere conveniente para obtener un mejor desempeño. Recuerde dividir los datos en conjuntos de entrenamiento y validación para esto. Comente el desempeño del modelo con alguna métrica de desempeño de modelos de regresión y compare desempeño con el modelo del punto 3."
   ]
  },
  {
   "cell_type": "code",
   "execution_count": 35,
   "metadata": {},
   "outputs": [],
   "source": [
    "from sklearn.model_selection import train_test_split\n",
    "from sklearn.tree import DecisionTreeRegressor\n",
    "from sklearn.metrics import mean_squared_error, r2_score"
   ]
  },
  {
   "cell_type": "code",
   "execution_count": 36,
   "metadata": {},
   "outputs": [
    {
     "name": "stdout",
     "output_type": "stream",
     "text": [
      "Desempeño del árbol de decisiones con librería sklearn:\n",
      "Error cuadrático medio (MSE) en conjunto de validación: 14954.905409445191\n",
      "Coeficiente de determinación (R^2) en conjunto de validación: 0.5469162763064426\n"
     ]
    }
   ],
   "source": [
    "# Celda 5\n",
    "# Dividir los datos\n",
    "X = bikes[['hour', 'season']]\n",
    "y = bikes['total']\n",
    "X_train, X_val, y_train, y_val = train_test_split(X, y, test_size=0.2, random_state=42)\n",
    "\n",
    "# Entrenar el árbol de decisiones\n",
    "tree_regressor = DecisionTreeRegressor(max_depth=5, random_state=42)\n",
    "tree_regressor.fit(X_train, y_train)\n",
    "\n",
    "# Realizar predicciones en el conjunto de validación\n",
    "y_pred_val = tree_regressor.predict(X_val)\n",
    "\n",
    "# Evaluar el desempeño del modelo en el conjunto de validación\n",
    "mse_val = mean_squared_error(y_val, y_pred_val)\n",
    "r2_val = r2_score(y_val, y_pred_val)\n",
    "\n",
    "print(\"Desempeño del árbol de decisiones con librería sklearn:\")\n",
    "print(\"Error cuadrático medio (MSE) en conjunto de validación:\", mse_val)\n",
    "print(\"Coeficiente de determinación (R^2) en conjunto de validación:\", r2_val)"
   ]
  },
  {
   "cell_type": "markdown",
   "metadata": {},
   "source": [
    "Estos resultados indican que el modelo explica aproximadamente el 54.7% de la variabilidad de la variable objetivo en el conjunto de validación, lo cual sugiere un ajuste moderado del modelo a los datos. El error cuadrático medio (MSE) de alrededor de 14954.91 indica la magnitud promedio del error de predicción cuadrado en el conjunto de validación."
   ]
  },
  {
   "cell_type": "markdown",
   "metadata": {},
   "source": [
    "### __________________________________________________________________________"
   ]
  },
  {
   "cell_type": "markdown",
   "metadata": {},
   "source": [
    "## Parte B - Métodos de ensamblajes\n",
    "En esta parte del taller se usará el conjunto de datos de Popularidad de Noticias Online. El objetivo es predecir si la notica es popular o no, la popularidad está dada por la cantidad de reacciones en redes sociales. Para más detalles puede visitar el siguiente enlace: [datos](https://archive.ics.uci.edu/ml/datasets/online+news+popularity)."
   ]
  },
  {
   "cell_type": "markdown",
   "metadata": {},
   "source": [
    "### Datos popularidad de noticias"
   ]
  },
  {
   "cell_type": "code",
   "execution_count": 37,
   "metadata": {},
   "outputs": [
    {
     "data": {
      "text/html": [
       "<div>\n",
       "<style scoped>\n",
       "    .dataframe tbody tr th:only-of-type {\n",
       "        vertical-align: middle;\n",
       "    }\n",
       "\n",
       "    .dataframe tbody tr th {\n",
       "        vertical-align: top;\n",
       "    }\n",
       "\n",
       "    .dataframe thead th {\n",
       "        text-align: right;\n",
       "    }\n",
       "</style>\n",
       "<table border=\"1\" class=\"dataframe\">\n",
       "  <thead>\n",
       "    <tr style=\"text-align: right;\">\n",
       "      <th></th>\n",
       "      <th>url</th>\n",
       "      <th>timedelta</th>\n",
       "      <th>n_tokens_title</th>\n",
       "      <th>n_tokens_content</th>\n",
       "      <th>n_unique_tokens</th>\n",
       "      <th>n_non_stop_words</th>\n",
       "      <th>n_non_stop_unique_tokens</th>\n",
       "      <th>num_hrefs</th>\n",
       "      <th>num_self_hrefs</th>\n",
       "      <th>num_imgs</th>\n",
       "      <th>...</th>\n",
       "      <th>min_positive_polarity</th>\n",
       "      <th>max_positive_polarity</th>\n",
       "      <th>avg_negative_polarity</th>\n",
       "      <th>min_negative_polarity</th>\n",
       "      <th>max_negative_polarity</th>\n",
       "      <th>title_subjectivity</th>\n",
       "      <th>title_sentiment_polarity</th>\n",
       "      <th>abs_title_subjectivity</th>\n",
       "      <th>abs_title_sentiment_polarity</th>\n",
       "      <th>Popular</th>\n",
       "    </tr>\n",
       "  </thead>\n",
       "  <tbody>\n",
       "    <tr>\n",
       "      <th>0</th>\n",
       "      <td>http://mashable.com/2014/12/10/cia-torture-rep...</td>\n",
       "      <td>28.0</td>\n",
       "      <td>9.0</td>\n",
       "      <td>188.0</td>\n",
       "      <td>0.732620</td>\n",
       "      <td>1.0</td>\n",
       "      <td>0.844262</td>\n",
       "      <td>5.0</td>\n",
       "      <td>1.0</td>\n",
       "      <td>1.0</td>\n",
       "      <td>...</td>\n",
       "      <td>0.200000</td>\n",
       "      <td>0.80</td>\n",
       "      <td>-0.487500</td>\n",
       "      <td>-0.60</td>\n",
       "      <td>-0.250000</td>\n",
       "      <td>0.9</td>\n",
       "      <td>0.8</td>\n",
       "      <td>0.4</td>\n",
       "      <td>0.8</td>\n",
       "      <td>1</td>\n",
       "    </tr>\n",
       "    <tr>\n",
       "      <th>1</th>\n",
       "      <td>http://mashable.com/2013/10/18/bitlock-kicksta...</td>\n",
       "      <td>447.0</td>\n",
       "      <td>7.0</td>\n",
       "      <td>297.0</td>\n",
       "      <td>0.653199</td>\n",
       "      <td>1.0</td>\n",
       "      <td>0.815789</td>\n",
       "      <td>9.0</td>\n",
       "      <td>4.0</td>\n",
       "      <td>1.0</td>\n",
       "      <td>...</td>\n",
       "      <td>0.160000</td>\n",
       "      <td>0.50</td>\n",
       "      <td>-0.135340</td>\n",
       "      <td>-0.40</td>\n",
       "      <td>-0.050000</td>\n",
       "      <td>0.1</td>\n",
       "      <td>-0.1</td>\n",
       "      <td>0.4</td>\n",
       "      <td>0.1</td>\n",
       "      <td>0</td>\n",
       "    </tr>\n",
       "    <tr>\n",
       "      <th>2</th>\n",
       "      <td>http://mashable.com/2013/07/24/google-glass-po...</td>\n",
       "      <td>533.0</td>\n",
       "      <td>11.0</td>\n",
       "      <td>181.0</td>\n",
       "      <td>0.660377</td>\n",
       "      <td>1.0</td>\n",
       "      <td>0.775701</td>\n",
       "      <td>4.0</td>\n",
       "      <td>3.0</td>\n",
       "      <td>1.0</td>\n",
       "      <td>...</td>\n",
       "      <td>0.136364</td>\n",
       "      <td>1.00</td>\n",
       "      <td>0.000000</td>\n",
       "      <td>0.00</td>\n",
       "      <td>0.000000</td>\n",
       "      <td>0.3</td>\n",
       "      <td>1.0</td>\n",
       "      <td>0.2</td>\n",
       "      <td>1.0</td>\n",
       "      <td>0</td>\n",
       "    </tr>\n",
       "    <tr>\n",
       "      <th>3</th>\n",
       "      <td>http://mashable.com/2013/11/21/these-are-the-m...</td>\n",
       "      <td>413.0</td>\n",
       "      <td>12.0</td>\n",
       "      <td>781.0</td>\n",
       "      <td>0.497409</td>\n",
       "      <td>1.0</td>\n",
       "      <td>0.677350</td>\n",
       "      <td>10.0</td>\n",
       "      <td>3.0</td>\n",
       "      <td>1.0</td>\n",
       "      <td>...</td>\n",
       "      <td>0.100000</td>\n",
       "      <td>1.00</td>\n",
       "      <td>-0.195701</td>\n",
       "      <td>-0.40</td>\n",
       "      <td>-0.071429</td>\n",
       "      <td>0.0</td>\n",
       "      <td>0.0</td>\n",
       "      <td>0.5</td>\n",
       "      <td>0.0</td>\n",
       "      <td>0</td>\n",
       "    </tr>\n",
       "    <tr>\n",
       "      <th>4</th>\n",
       "      <td>http://mashable.com/2014/02/11/parking-ticket-...</td>\n",
       "      <td>331.0</td>\n",
       "      <td>8.0</td>\n",
       "      <td>177.0</td>\n",
       "      <td>0.685714</td>\n",
       "      <td>1.0</td>\n",
       "      <td>0.830357</td>\n",
       "      <td>3.0</td>\n",
       "      <td>2.0</td>\n",
       "      <td>1.0</td>\n",
       "      <td>...</td>\n",
       "      <td>0.100000</td>\n",
       "      <td>0.55</td>\n",
       "      <td>-0.175000</td>\n",
       "      <td>-0.25</td>\n",
       "      <td>-0.100000</td>\n",
       "      <td>0.0</td>\n",
       "      <td>0.0</td>\n",
       "      <td>0.5</td>\n",
       "      <td>0.0</td>\n",
       "      <td>0</td>\n",
       "    </tr>\n",
       "  </tbody>\n",
       "</table>\n",
       "<p>5 rows × 61 columns</p>\n",
       "</div>"
      ],
      "text/plain": [
       "                                                 url  timedelta  \\\n",
       "0  http://mashable.com/2014/12/10/cia-torture-rep...       28.0   \n",
       "1  http://mashable.com/2013/10/18/bitlock-kicksta...      447.0   \n",
       "2  http://mashable.com/2013/07/24/google-glass-po...      533.0   \n",
       "3  http://mashable.com/2013/11/21/these-are-the-m...      413.0   \n",
       "4  http://mashable.com/2014/02/11/parking-ticket-...      331.0   \n",
       "\n",
       "   n_tokens_title  n_tokens_content  n_unique_tokens  n_non_stop_words  \\\n",
       "0             9.0             188.0         0.732620               1.0   \n",
       "1             7.0             297.0         0.653199               1.0   \n",
       "2            11.0             181.0         0.660377               1.0   \n",
       "3            12.0             781.0         0.497409               1.0   \n",
       "4             8.0             177.0         0.685714               1.0   \n",
       "\n",
       "   n_non_stop_unique_tokens  num_hrefs  num_self_hrefs  num_imgs  ...  \\\n",
       "0                  0.844262        5.0             1.0       1.0  ...   \n",
       "1                  0.815789        9.0             4.0       1.0  ...   \n",
       "2                  0.775701        4.0             3.0       1.0  ...   \n",
       "3                  0.677350       10.0             3.0       1.0  ...   \n",
       "4                  0.830357        3.0             2.0       1.0  ...   \n",
       "\n",
       "   min_positive_polarity  max_positive_polarity  avg_negative_polarity  \\\n",
       "0               0.200000                   0.80              -0.487500   \n",
       "1               0.160000                   0.50              -0.135340   \n",
       "2               0.136364                   1.00               0.000000   \n",
       "3               0.100000                   1.00              -0.195701   \n",
       "4               0.100000                   0.55              -0.175000   \n",
       "\n",
       "   min_negative_polarity  max_negative_polarity  title_subjectivity  \\\n",
       "0                  -0.60              -0.250000                 0.9   \n",
       "1                  -0.40              -0.050000                 0.1   \n",
       "2                   0.00               0.000000                 0.3   \n",
       "3                  -0.40              -0.071429                 0.0   \n",
       "4                  -0.25              -0.100000                 0.0   \n",
       "\n",
       "   title_sentiment_polarity  abs_title_subjectivity  \\\n",
       "0                       0.8                     0.4   \n",
       "1                      -0.1                     0.4   \n",
       "2                       1.0                     0.2   \n",
       "3                       0.0                     0.5   \n",
       "4                       0.0                     0.5   \n",
       "\n",
       "   abs_title_sentiment_polarity  Popular  \n",
       "0                           0.8        1  \n",
       "1                           0.1        0  \n",
       "2                           1.0        0  \n",
       "3                           0.0        0  \n",
       "4                           0.0        0  \n",
       "\n",
       "[5 rows x 61 columns]"
      ]
     },
     "execution_count": 37,
     "metadata": {},
     "output_type": "execute_result"
    }
   ],
   "source": [
    "# Lectura de la información de archivo .csv\n",
    "df = pd.read_csv('https://raw.githubusercontent.com/davidzarruk/MIAD_ML_NLP_2023/main/datasets/mashable.csv', index_col=0)\n",
    "df.head()"
   ]
  },
  {
   "cell_type": "code",
   "execution_count": 38,
   "metadata": {},
   "outputs": [
    {
     "data": {
      "text/plain": [
       "0.5"
      ]
     },
     "execution_count": 38,
     "metadata": {},
     "output_type": "execute_result"
    }
   ],
   "source": [
    "# Definición variable de interes y variables predictoras\n",
    "X = df.drop(['url', 'Popular'], axis=1)\n",
    "y = df['Popular']\n",
    "y.mean()"
   ]
  },
  {
   "cell_type": "code",
   "execution_count": 39,
   "metadata": {},
   "outputs": [],
   "source": [
    "# División de la muestra en set de entrenamiento y prueba\n",
    "from sklearn.model_selection import train_test_split\n",
    "X_train, X_test, y_train, y_test = train_test_split(X, y, random_state=1)"
   ]
  },
  {
   "cell_type": "markdown",
   "metadata": {},
   "source": [
    "### Punto 6 - Árbol de decisión y regresión logística\n",
    "En la celda 6 construya un árbol de decisión y una regresión logística. Para el árbol calibre al menos un parámetro y evalúe el desempeño de cada modelo usando las métricas de Accuracy y F1-Score."
   ]
  },
  {
   "cell_type": "code",
   "execution_count": 41,
   "metadata": {},
   "outputs": [],
   "source": [
    "from sklearn.tree import DecisionTreeClassifier\n",
    "from sklearn.linear_model import LogisticRegression\n",
    "from sklearn.metrics import accuracy_score, f1_score"
   ]
  },
  {
   "cell_type": "code",
   "execution_count": 42,
   "metadata": {},
   "outputs": [
    {
     "name": "stdout",
     "output_type": "stream",
     "text": [
      "Desempeño del árbol de decisión:\n",
      "Accuracy: 0.6373333333333333\n",
      "F1-Score: 0.6616915422885572\n",
      "\n",
      "Desempeño de la regresión logística:\n",
      "Accuracy: 0.6186666666666667\n",
      "F1-Score: 0.6060606060606061\n"
     ]
    }
   ],
   "source": [
    "# Celda 6\n",
    "# Árbol de decisión\n",
    "tree_clf = DecisionTreeClassifier(max_depth=5, random_state=1)\n",
    "tree_clf.fit(X_train, y_train)\n",
    "tree_pred = tree_clf.predict(X_test)\n",
    "\n",
    "# Regresión logística\n",
    "log_reg = LogisticRegression(max_iter=1000, random_state=1)\n",
    "log_reg.fit(X_train, y_train)\n",
    "log_reg_pred = log_reg.predict(X_test)\n",
    "\n",
    "# Métricas de desempeño para el árbol de decisión\n",
    "tree_accuracy = accuracy_score(y_test, tree_pred)\n",
    "tree_f1_score = f1_score(y_test, tree_pred)\n",
    "\n",
    "print(\"Desempeño del árbol de decisión:\")\n",
    "print(\"Accuracy:\", tree_accuracy)\n",
    "print(\"F1-Score:\", tree_f1_score)\n",
    "\n",
    "# Métricas de desempeño para la regresión logística\n",
    "log_reg_accuracy = accuracy_score(y_test, log_reg_pred)\n",
    "log_reg_f1_score = f1_score(y_test, log_reg_pred)\n",
    "\n",
    "print(\"\\nDesempeño de la regresión logística:\")\n",
    "print(\"Accuracy:\", log_reg_accuracy)\n",
    "print(\"F1-Score:\", log_reg_f1_score)"
   ]
  },
  {
   "cell_type": "markdown",
   "metadata": {},
   "source": [
    "El árbol de decisión parece tener un desempeño ligeramente mejor que la regresión logística en términos de accuracy y F1-Score en este conjunto de datos. "
   ]
  },
  {
   "cell_type": "markdown",
   "metadata": {},
   "source": [
    "###  ____________________________________________________________________"
   ]
  },
  {
   "cell_type": "markdown",
   "metadata": {},
   "source": [
    "### Punto 7 - Votación Mayoritaria\n",
    "En la celda 7 elabore un esamble con la metodología de **Votación mayoritaria** compuesto por 300 muestras bagged donde:\n",
    "\n",
    "-las primeras 100 muestras vienen de árboles de decisión donde max_depth tome un valor de su elección\\\n",
    "-las segundas 100 muestras vienen de árboles de decisión donde min_samples_leaf tome un valor de su elección\\\n",
    "-las últimas 100 muestras vienen de regresiones logísticas\n",
    "\n",
    "Evalúe cada uno de los tres modelos de manera independiente utilizando las métricas de Accuracy y F1-Score, luego evalúe el ensamble de modelos y compare los resultados. \n",
    "\n",
    "Nota: \n",
    "\n",
    "Para este ensamble de 300 modelos, deben hacer votación mayoritaria. Esto lo pueden hacer de distintas maneras. La más \"fácil\" es haciendo la votación \"manualmente\", como se hace a partir del minuto 5:45 del video de Ejemplo práctico de emsablajes en Coursera. Digo que es la más fácil porque si hacen la votación mayoritaria sobre las 300 predicciones van a obtener lo que se espera.\n",
    "\n",
    "Otra opción es: para cada uno de los 3 tipos de modelos, entrenar un ensamble de 100 modelos cada uno. Predecir para cada uno de esos tres ensambles y luego predecir como un ensamble de los 3 ensambles. La cuestión es que la votación mayoritaria al usar los 3 ensambles no necesariamente va a generar el mismo resultado que si hacen la votación mayoritaria directamente sobre los 300 modelos. Entonces, para los que quieran hacer esto, deben hacer ese último cálculo con cuidado.\n",
    "\n",
    "Para los que quieran hacerlo como ensamble de ensambles, digo que se debe hacer el ensamble final con cuidado por lo siguiente. Supongamos que:\n",
    "\n",
    "* para los 100 árboles del primer tipo, la votación mayoritaria es: 55% de los modelos predicen que la clase de una observación es \"1\"\n",
    "* para los 100 árboles del segundo tipo, la votación mayoritaria es: 55% de los modelos predicen que la clase de una observación es \"1\"\n",
    "* para las 100 regresiones logísticas, la votación mayoritaria es: 10% de los modelos predicen que la clase de una observación es \"1\"\n",
    "\n",
    "Si se hace la votación mayoritaria de los 300 modelos, la predicción de esa observación debería ser: (100*55%+100*55%+100*10%)/300 = 40% de los modelos votan porque la predicción debería ser \"1\". Es decir, la predicción del ensamble es \"0\" (dado que menos del 50% de modelos predijo un 1).\n",
    "\n",
    "Sin embargo, si miramos cada ensamble por separado, el primer ensamble predice \"1\", el segundo ensamble predice \"1\" y el último ensamble predice \"0\". Si hago votación mayoritaria sobre esto, la predicción va a ser \"1\", lo cual es distinto a si se hace la votación mayoritaria sobre los 300 modelos."
   ]
  },
  {
   "cell_type": "code",
   "execution_count": 43,
   "metadata": {},
   "outputs": [],
   "source": [
    "from sklearn.ensemble import BaggingClassifier\n",
    "from sklearn.tree import DecisionTreeClassifier\n",
    "from sklearn.linear_model import LogisticRegression\n",
    "from sklearn.metrics import accuracy_score, f1_score"
   ]
  },
  {
   "cell_type": "code",
   "execution_count": 49,
   "metadata": {},
   "outputs": [
    {
     "ename": "TypeError",
     "evalue": "BaggingClassifier.__init__() got an unexpected keyword argument 'base_estimator'",
     "output_type": "error",
     "traceback": [
      "\u001b[1;31m---------------------------------------------------------------------------\u001b[0m",
      "\u001b[1;31mTypeError\u001b[0m                                 Traceback (most recent call last)",
      "Cell \u001b[1;32mIn[49], line 12\u001b[0m\n\u001b[0;32m     10\u001b[0m \u001b[38;5;28;01mfor\u001b[39;00m _ \u001b[38;5;129;01min\u001b[39;00m \u001b[38;5;28mrange\u001b[39m(\u001b[38;5;241m100\u001b[39m):\n\u001b[0;32m     11\u001b[0m     tree \u001b[38;5;241m=\u001b[39m DecisionTreeClassifier(max_depth\u001b[38;5;241m=\u001b[39m\u001b[38;5;241m5\u001b[39m)  \u001b[38;5;66;03m# Puedes ajustar max_depth según sea necesario\u001b[39;00m\n\u001b[1;32m---> 12\u001b[0m     bagged_tree \u001b[38;5;241m=\u001b[39m BaggingClassifier(base_estimator\u001b[38;5;241m=\u001b[39mtree, n_estimators\u001b[38;5;241m=\u001b[39m\u001b[38;5;241m1\u001b[39m, random_state\u001b[38;5;241m=\u001b[39m\u001b[38;5;241m1\u001b[39m)\n\u001b[0;32m     13\u001b[0m     bagged_tree\u001b[38;5;241m.\u001b[39mfit(X_train, y_train)\n\u001b[0;32m     14\u001b[0m     models\u001b[38;5;241m.\u001b[39mappend(bagged_tree)\n",
      "\u001b[1;31mTypeError\u001b[0m: BaggingClassifier.__init__() got an unexpected keyword argument 'base_estimator'"
     ]
    }
   ],
   "source": [
    "# Parámetros para los árboles de decisión\n",
    "max_depth_value = 5\n",
    "min_samples_leaf_value = 10\n",
    "\n",
    "# Crear listas para almacenar modelos y predicciones\n",
    "models = []\n",
    "predictions = []\n",
    "\n",
    "# Entrenar y almacenar 100 modelos de árboles de decisión con max_depth\n",
    "for _ in range(100):\n",
    "    tree = DecisionTreeClassifier(max_depth=5)  # Puedes ajustar max_depth según sea necesario\n",
    "    bagged_tree = BaggingClassifier(base_estimator=tree, n_estimators=1, random_state=1)\n",
    "    bagged_tree.fit(X_train, y_train)\n",
    "    models.append(bagged_tree)\n",
    "    predictions.append(bagged_tree.predict(X_test))\n",
    "\n",
    "# Entrenar y almacenar 100 modelos de árboles de decisión con min_samples_leaf\n",
    "for _ in range(100):\n",
    "    tree = DecisionTreeClassifier(min_samples_leaf=5)  # Puedes ajustar min_samples_leaf según sea necesario\n",
    "    bagged_tree = BaggingClassifier(base_estimator=tree, n_estimators=1, random_state=1)\n",
    "    bagged_tree.fit(X_train, y_train)\n",
    "    models.append(bagged_tree)\n",
    "    predictions.append(bagged_tree.predict(X_test))\n",
    "\n",
    "# Entrenar y almacenar 100 modelos de regresión logística\n",
    "for _ in range(100):\n",
    "    logistic_regression = LogisticRegression(random_state=1)\n",
    "    logistic_regression.fit(X_train, y_train)\n",
    "    models.append(logistic_regression)\n",
    "    predictions.append(logistic_regression.predict(X_test))\n",
    "\n",
    "# Realizar la votación mayoritaria\n",
    "final_predictions = []\n",
    "\n",
    "for i in range(len(X_test)):\n",
    "    votes = [prediction[i] for prediction in predictions]\n",
    "    final_predictions.append(int(np.mean(votes) >= 0.5))\n",
    "\n",
    "# Calcular métricas de evaluación\n",
    "accuracy_ensemble = accuracy_score(y_test, final_predictions)\n",
    "f1_score_ensemble = f1_score(y_test, final_predictions)\n",
    "\n",
    "print(\"Desempeño del ensamble:\")\n",
    "print(\"Accuracy:\", accuracy_ensemble)\n",
    "print(\"F1-Score:\", f1_score_ensemble)"
   ]
  },
  {
   "cell_type": "code",
   "execution_count": 50,
   "metadata": {},
   "outputs": [
    {
     "name": "stdout",
     "output_type": "stream",
     "text": [
      "1.4.1.post1\n"
     ]
    }
   ],
   "source": [
    "import sklearn\n",
    "print(sklearn.__version__)"
   ]
  },
  {
   "cell_type": "code",
   "execution_count": 48,
   "metadata": {},
   "outputs": [
    {
     "name": "stdout",
     "output_type": "stream",
     "text": [
      "Requirement already satisfied: scikit-learn in c:\\users\\sofia\\anaconda3\\lib\\site-packages (1.4.1.post1)\n",
      "Requirement already satisfied: numpy<2.0,>=1.19.5 in c:\\users\\sofia\\anaconda3\\lib\\site-packages (from scikit-learn) (1.24.3)\n",
      "Requirement already satisfied: scipy>=1.6.0 in c:\\users\\sofia\\appdata\\roaming\\python\\python311\\site-packages (from scikit-learn) (1.11.4)\n",
      "Requirement already satisfied: joblib>=1.2.0 in c:\\users\\sofia\\anaconda3\\lib\\site-packages (from scikit-learn) (1.2.0)\n",
      "Requirement already satisfied: threadpoolctl>=2.0.0 in c:\\users\\sofia\\anaconda3\\lib\\site-packages (from scikit-learn) (2.2.0)\n",
      "Note: you may need to restart the kernel to use updated packages.\n"
     ]
    }
   ],
   "source": [
    "pip install --upgrade scikit-learn"
   ]
  },
  {
   "cell_type": "code",
   "execution_count": null,
   "metadata": {},
   "outputs": [],
   "source": [
    "# Celda 7\n"
   ]
  },
  {
   "cell_type": "markdown",
   "metadata": {},
   "source": [
    "### Punto 8 - Votación Ponderada\n",
    "En la celda 8 elabore un ensamble con la metodología de **Votación ponderada** compuesto por 300 muestras bagged para los mismos tres escenarios del punto 7. Evalúe los modelos utilizando las métricas de Accuracy y F1-Score"
   ]
  },
  {
   "cell_type": "code",
   "execution_count": null,
   "metadata": {},
   "outputs": [],
   "source": [
    "# Celda 8\n"
   ]
  },
  {
   "cell_type": "markdown",
   "metadata": {},
   "source": [
    "### Punto 9 - Comparación y análisis de resultados\n",
    "En la celda 9 comente sobre los resultados obtenidos con las metodologías usadas en los puntos 7 y 8, compare los resultados y enuncie posibles ventajas o desventajas de cada una de ellas."
   ]
  },
  {
   "cell_type": "code",
   "execution_count": null,
   "metadata": {},
   "outputs": [],
   "source": [
    "# Celda 9"
   ]
  }
 ],
 "metadata": {
  "kernelspec": {
   "display_name": "Python 3 (ipykernel)",
   "language": "python",
   "name": "python3"
  },
  "language_info": {
   "codemirror_mode": {
    "name": "ipython",
    "version": 3
   },
   "file_extension": ".py",
   "mimetype": "text/x-python",
   "name": "python",
   "nbconvert_exporter": "python",
   "pygments_lexer": "ipython3",
   "version": "3.11.8"
  }
 },
 "nbformat": 4,
 "nbformat_minor": 4
}
